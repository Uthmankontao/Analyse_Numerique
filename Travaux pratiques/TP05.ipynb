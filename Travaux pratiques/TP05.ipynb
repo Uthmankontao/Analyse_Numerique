{
 "cells": [
  {
   "cell_type": "markdown",
   "metadata": {},
   "source": [
    "Dans ce sujet de TP, nous nous familiarisons avec numpy tout en révisant les notions d'algèbre linéaire et préparant les outils nécessaires à la résolutions de systèmes linéaires.\n",
    "\n",
    "Proposez une fonction de décomposition d'une matrice carrée A=L+D+U\n",
    " avec D\n",
    " la matrice diagonale constituée des éléments diagonaux de A\n",
    ", U\n",
    " et L\n",
    " des matrices triangulaires respectivement supérieure et inférieure dont les éléments diagonaux sont nuls.\n",
    "\n",
    "Proposer une fonction calculant \"manuellement\" le produit de deux matrices. Comparez son temps d'exécution avec la méthode dot\n",
    "\n",
    "Proposer des fonctions permettant de renvoyer les matrices élémentaire suivantes :\n",
    "\n",
    "La matrice Ti,j\n",
    " permettant la permutation des lignes i\n",
    " et j\n",
    " ;\n",
    "La matrice Di(λ)\n",
    " permettant la multiplication de la ligne i\n",
    " par λ\n",
    " ;\n",
    "La matrice Lr,s(λ)\n",
    " permettant d'ajouter à la ligne r\n",
    ", λ\n",
    " fois la ligne s\n",
    ".\n",
    "Vérifiez sur quelques exemples les informations données en cours concernant les matrices inverses des matrices précédentes.\n",
    "\n",
    "Vérifiez que le produit A=Lr1,s(λ1)Lr2,s(λ2)\n",
    " donne une matrice identité à laquelle on ajoute λ1\n",
    " sur Ar1,s\n",
    " et λ2\n",
    " sur Ar2,s\n",
    ".\n",
    "\n",
    "Proposez deux écritures de génération de la matrice Mr((λr+1,…,λn))=Lr+1,r(λr+1)…Ln,r(λn)\n",
    "."
   ]
  }
 ],
 "metadata": {
  "kernelspec": {
   "display_name": "Python 3",
   "language": "python",
   "name": "python3"
  },
  "language_info": {
   "codemirror_mode": {
    "name": "ipython",
    "version": 3
   },
   "file_extension": ".py",
   "mimetype": "text/x-python",
   "name": "python",
   "nbconvert_exporter": "python",
   "pygments_lexer": "ipython3",
   "version": "3.11.4"
  }
 },
 "nbformat": 4,
 "nbformat_minor": 2
}
