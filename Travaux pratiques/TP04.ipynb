{
 "cells": [
  {
   "cell_type": "markdown",
   "metadata": {},
   "source": [
    "Implantez les méthodes numériques d'intégration :\n",
    "\n",
    "Méthode des rectangles médians\n",
    "Méthode des trapèzes\n",
    "Méthode de Simpson\n",
    "Vous testerez ces méthodes sur quelques problèmes de calcul d'intégrale et comparerez vos résultats avec le résultat théorique et regarderez l'influence du nombre de subdivisions de l'intervalle d'intégration.\n",
    "\n",
    "∫π20sin(x)dx\n",
    "∫π20cos(x)dx\n",
    "∫21log(x)dx\n",
    "∫10exdx\n",
    "∫1−1x3+1dx\n",
    "Comme toujours, remettez un notebook python ou une archive contenant code et commentaires textuels."
   ]
  },
  {
   "cell_type": "markdown",
   "metadata": {},
   "source": [
    "### Méthode des rectangles médians"
   ]
  },
  {
   "cell_type": "code",
   "execution_count": null,
   "metadata": {},
   "outputs": [],
   "source": [
    "#"
   ]
  }
 ],
 "metadata": {
  "kernelspec": {
   "display_name": "Python 3",
   "language": "python",
   "name": "python3"
  },
  "language_info": {
   "name": "python",
   "version": "3.11.4"
  }
 },
 "nbformat": 4,
 "nbformat_minor": 2
}
